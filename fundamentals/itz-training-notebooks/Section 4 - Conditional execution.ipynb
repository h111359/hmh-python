{
 "cells": [
  {
   "cell_type": "markdown",
   "id": "ed2c381a",
   "metadata": {},
   "source": [
    "if..else"
   ]
  },
  {
   "cell_type": "code",
   "execution_count": 1,
   "id": "c81c188c",
   "metadata": {},
   "outputs": [
    {
     "name": "stdout",
     "output_type": "stream",
     "text": [
      "1 is less than 2\n"
     ]
    }
   ],
   "source": [
    "if 1 < 2:\n",
    "    print('1 is less than 2')"
   ]
  },
  {
   "cell_type": "code",
   "execution_count": 4,
   "id": "638f0e67",
   "metadata": {},
   "outputs": [
    {
     "name": "stdout",
     "output_type": "stream",
     "text": [
      "Second Line\n"
     ]
    }
   ],
   "source": [
    "if 1 > 2:\n",
    "    print('First line')\n",
    "print('Second Line')"
   ]
  },
  {
   "cell_type": "markdown",
   "id": "bebb75ec",
   "metadata": {},
   "source": [
    "# 38 if .. else"
   ]
  },
  {
   "cell_type": "code",
   "execution_count": 7,
   "id": "c92535b0",
   "metadata": {},
   "outputs": [
    {
     "name": "stdout",
     "output_type": "stream",
     "text": [
      "1 is not less than 2\n"
     ]
    }
   ],
   "source": [
    "if 1 > 2:\n",
    "    print('1 is less than 2')\n",
    "else:\n",
    "    print('1 is not less than 2')"
   ]
  },
  {
   "cell_type": "code",
   "execution_count": 2,
   "id": "9707e45c",
   "metadata": {},
   "outputs": [
    {
     "name": "stdout",
     "output_type": "stream",
     "text": [
      "authorized\n"
     ]
    }
   ],
   "source": [
    "account_enabled = True\n",
    "balance = 1000\n",
    "Bwithdraw = 100\n",
    "\n",
    "if account_enabled and withdraw <= balance:\n",
    "    print('authorized')\n",
    "else:\n",
    "    print('not authorized')"
   ]
  },
  {
   "cell_type": "code",
   "execution_count": 3,
   "id": "ec947432",
   "metadata": {},
   "outputs": [
    {
     "name": "stdout",
     "output_type": "stream",
     "text": [
      "Passed\n"
     ]
    }
   ],
   "source": [
    "grade = 72\n",
    "\n",
    "if grade >= 90:\n",
    "    print('Passed with distinction')\n",
    "elif grade >= 70:\n",
    "    print('Passed')\n",
    "else:\n",
    "    print('Failed')"
   ]
  },
  {
   "cell_type": "markdown",
   "id": "7cfe5617",
   "metadata": {},
   "source": [
    "# 40 elif"
   ]
  },
  {
   "cell_type": "code",
   "execution_count": 4,
   "id": "ef500d02",
   "metadata": {},
   "outputs": [
    {
     "name": "stdout",
     "output_type": "stream",
     "text": [
      "C\n"
     ]
    }
   ],
   "source": [
    "grade = 72\n",
    "\n",
    "if grade >= 90:\n",
    "    letter_grade = 'A'\n",
    "elif grade >= 80:\n",
    "    letter_grade = 'B'\n",
    "elif grade >= 70:\n",
    "    letter_grade = 'C'\n",
    "elif grade >= 60:\n",
    "    letter_grade = 'D'\n",
    "else:\n",
    "    letter_grade = 'F'\n",
    "\n",
    "print(letter_grade)"
   ]
  },
  {
   "cell_type": "code",
   "execution_count": 6,
   "id": "d1c5a4e1",
   "metadata": {},
   "outputs": [
    {
     "name": "stdout",
     "output_type": "stream",
     "text": [
      "insufficient funds\n"
     ]
    }
   ],
   "source": [
    "account_enabled = True\n",
    "balance = 1000\n",
    "withdraw = 100_000\n",
    "\n",
    "if not account_enabled:\n",
    "    print('account disabled')\n",
    "elif withdraw > balance:\n",
    "    print('insufficient funds')\n",
    "else:\n",
    "    print('withdraw authorized')"
   ]
  },
  {
   "cell_type": "markdown",
   "id": "2014ac7f",
   "metadata": {},
   "source": [
    "# 42 Ternary Conditional Operator"
   ]
  },
  {
   "cell_type": "code",
   "execution_count": 7,
   "id": "129ee1c5",
   "metadata": {},
   "outputs": [
    {
     "name": "stdout",
     "output_type": "stream",
     "text": [
      "50\n"
     ]
    }
   ],
   "source": [
    "ask_prise = 100\n",
    "\n",
    "if ask_prise > 50:\n",
    "    volume = 50\n",
    "else:\n",
    "    volume = 80\n",
    "    \n",
    "print(volume)"
   ]
  },
  {
   "cell_type": "code",
   "execution_count": 8,
   "id": "000317ce",
   "metadata": {},
   "outputs": [
    {
     "name": "stdout",
     "output_type": "stream",
     "text": [
      "50\n"
     ]
    }
   ],
   "source": [
    "ask_prise = 100\n",
    "\n",
    "volume = 50 if ask_prise > 50 else 80\n",
    "\n",
    "print(volume)"
   ]
  },
  {
   "cell_type": "code",
   "execution_count": 9,
   "id": "2fe8eba2",
   "metadata": {},
   "outputs": [
    {
     "name": "stdout",
     "output_type": "stream",
     "text": [
      "10\n"
     ]
    }
   ],
   "source": [
    "a = 10\n",
    "b = 20\n",
    "\n",
    "distance = a - b if a >= b else b - a\n",
    "\n",
    "print(distance)"
   ]
  },
  {
   "cell_type": "code",
   "execution_count": 12,
   "id": "0aba954c",
   "metadata": {},
   "outputs": [
    {
     "name": "stdout",
     "output_type": "stream",
     "text": [
      "15000\n"
     ]
    }
   ],
   "source": [
    "current_value = -999\n",
    "running_total = 15_000\n",
    "running_count = 125\n",
    "\n",
    "running_total = running_total + current_value if current_value != -999 else running_total\n",
    "\n",
    "print(running_total)"
   ]
  },
  {
   "cell_type": "markdown",
   "id": "85229cba",
   "metadata": {},
   "source": [
    "# 43 Exercises"
   ]
  },
  {
   "cell_type": "code",
   "execution_count": 16,
   "id": "9f52a2c7",
   "metadata": {},
   "outputs": [
    {
     "name": "stdout",
     "output_type": "stream",
     "text": [
      "N/A\n"
     ]
    }
   ],
   "source": [
    "c = None\n",
    "\n",
    "if c is None:\n",
    "    c = 'N/A'\n",
    "    \n",
    "print(c)"
   ]
  },
  {
   "cell_type": "markdown",
   "id": "6c2662d1",
   "metadata": {},
   "source": [
    "Excercise 2"
   ]
  },
  {
   "cell_type": "code",
   "execution_count": 18,
   "id": "1ff78c62",
   "metadata": {},
   "outputs": [
    {
     "name": "stdout",
     "output_type": "stream",
     "text": [
      "5\n"
     ]
    }
   ],
   "source": [
    "c = 5\n",
    "\n",
    "c = 'N/A' if c is None else c\n",
    "\n",
    "print(c)"
   ]
  },
  {
   "cell_type": "markdown",
   "id": "34218f79",
   "metadata": {},
   "source": [
    "Exercise 3"
   ]
  },
  {
   "cell_type": "code",
   "execution_count": 21,
   "id": "e5841f27",
   "metadata": {},
   "outputs": [
    {
     "name": "stdout",
     "output_type": "stream",
     "text": [
      "Very Good\n"
     ]
    }
   ],
   "source": [
    "score = 780\n",
    "\n",
    "if score >= 0 and score < 580:\n",
    "    rating = 'Poor'\n",
    "elif score < 670:\n",
    "    rating = 'Fair'\n",
    "elif score < 740:\\\n",
    "    rating = 'Good'\n",
    "elif score < 800:\n",
    "    rating = 'Very Good'\n",
    "elif score <= 850:\n",
    "    rating = 'Excellent'\n",
    "else:\n",
    "    rating = 'Out of range'\n",
    "    \n",
    "print(rating)"
   ]
  },
  {
   "cell_type": "code",
   "execution_count": null,
   "id": "f7fdbe43",
   "metadata": {},
   "outputs": [],
   "source": []
  }
 ],
 "metadata": {
  "kernelspec": {
   "display_name": "Python 3 (ipykernel)",
   "language": "python",
   "name": "python3"
  },
  "language_info": {
   "codemirror_mode": {
    "name": "ipython",
    "version": 3
   },
   "file_extension": ".py",
   "mimetype": "text/x-python",
   "name": "python",
   "nbconvert_exporter": "python",
   "pygments_lexer": "ipython3",
   "version": "3.11.6"
  }
 },
 "nbformat": 4,
 "nbformat_minor": 5
}
