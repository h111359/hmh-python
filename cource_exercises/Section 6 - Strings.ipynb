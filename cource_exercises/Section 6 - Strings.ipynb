{
 "cells": [
  {
   "cell_type": "markdown",
   "id": "bfbbb727-286b-4fb4-acf3-57cb459bfbb4",
   "metadata": {},
   "source": [
    "62. Unicode - Coding"
   ]
  },
  {
   "cell_type": "code",
   "execution_count": 11,
   "id": "b7a983dc-e139-44b4-aa4c-1de7b6196226",
   "metadata": {},
   "outputs": [
    {
     "name": "stdout",
     "output_type": "stream",
     "text": [
      "65\n",
      "α -> 945 0x3b1\n",
      "🐍 -> 128013 0x1f40d\n"
     ]
    }
   ],
   "source": [
    "# Basics\n",
    "print(ord('A'))\n",
    "print('α', '->', ord('α'), hex(ord('α')), sep=' ')\n",
    "print('🐍', '->', ord('🐍'), hex(ord('🐍')), sep=' ')"
   ]
  },
  {
   "cell_type": "code",
   "execution_count": 12,
   "id": "819d3d24-07fc-41f3-a784-d78572c37010",
   "metadata": {},
   "outputs": [
    {
     "name": "stdout",
     "output_type": "stream",
     "text": [
      "128013\n"
     ]
    }
   ],
   "source": [
    "# Revert hexademical to decimal\n",
    "print(int('0x1f40d', 16))"
   ]
  },
  {
   "cell_type": "code",
   "execution_count": 13,
   "id": "7becd973-e344-43a0-b7f3-1cbae286c69e",
   "metadata": {},
   "outputs": [
    {
     "name": "stdout",
     "output_type": "stream",
     "text": [
      "alpha\n"
     ]
    }
   ],
   "source": [
    "# We can use some unicode symbols in the variable names - those, which are letters or numbers\n",
    "\n",
    "α = 'alpha'\n",
    "print(α)"
   ]
  },
  {
   "cell_type": "code",
   "execution_count": 14,
   "id": "54ca3be1-c97a-4352-8933-dcb75e31fe44",
   "metadata": {},
   "outputs": [
    {
     "ename": "SyntaxError",
     "evalue": "invalid character '🐍' (U+1F40D) (4218023384.py, line 3)",
     "output_type": "error",
     "traceback": [
      "\u001b[0;36m  Cell \u001b[0;32mIn[14], line 3\u001b[0;36m\u001b[0m\n\u001b[0;31m    🐍 = 'snake\"\u001b[0m\n\u001b[0m    ^\u001b[0m\n\u001b[0;31mSyntaxError\u001b[0m\u001b[0;31m:\u001b[0m invalid character '🐍' (U+1F40D)\n"
     ]
    }
   ],
   "source": [
    "# But we can not use all Unicode symbols. Snake for example can not be used\n",
    "\n",
    "🐍 = 'snake\""
   ]
  },
  {
   "cell_type": "code",
   "execution_count": 20,
   "id": "96548f8e-6a54-4ce2-9adb-05c9aa92e445",
   "metadata": {},
   "outputs": [
    {
     "name": "stdout",
     "output_type": "stream",
     "text": [
      "✋\n",
      "🦶\n"
     ]
    }
   ],
   "source": [
    "# Using Unicode characters which are not on the keyboard\n",
    "\n",
    "# By name\n",
    "hand = '\\N{Raised Hand}'\n",
    "print(hand)\n",
    "\n",
    "# By numeric code\n",
    "# lower case u - 4 characters\n",
    "# capital U -> 8 characters\n",
    "foot = '\\U0001F9B6'\n",
    "print(foot)"
   ]
  },
  {
   "cell_type": "markdown",
   "id": "47d5222c-58a5-4125-9ed9-a3524c1c0b90",
   "metadata": {},
   "source": [
    "64. Common String Methods - Coding"
   ]
  },
  {
   "cell_type": "code",
   "execution_count": 24,
   "id": "e98f088e-21ed-4c42-ae26-707739244abe",
   "metadata": {},
   "outputs": [
    {
     "name": "stdout",
     "output_type": "stream",
     "text": [
      "NEVER GIVE UP AND MAKE THE NEXT STEP\n",
      "never give up and make the next step\n",
      "Never Give Up And Make The Next Step\n"
     ]
    }
   ],
   "source": [
    "# Basics\n",
    "\n",
    "message = 'Never give up and make the next step'\n",
    "\n",
    "# Convert to uppercase\n",
    "print(message.upper())\n",
    "\n",
    "# Convert to lowercase\n",
    "print(message.lower())\n",
    "\n",
    "# Convert to title\n",
    "print(message.title())\n"
   ]
  },
  {
   "cell_type": "code",
   "execution_count": 30,
   "id": "ba2feb7a-c22e-4ca7-abef-4ac91f7957bd",
   "metadata": {},
   "outputs": [
    {
     "name": "stdout",
     "output_type": "stream",
     "text": [
      "straße\n",
      "STRASSE\n",
      "strasse straße False True\n"
     ]
    }
   ],
   "source": [
    "# Casefolding\n",
    "\n",
    "street = 'stra\\N{LATIN SMALL LETTER SHARP S}e'\n",
    "print(street)\n",
    "\n",
    "# Uppercasing street\n",
    "street_upper = street.upper()\n",
    "print(street_upper)\n",
    "\n",
    "#comparing with lower will return False, but casefolding - Tuue\n",
    "print(street_upper.lower(), street.lower(), street_upper.lower() == street.lower(), street_upper.casefold() == street.casefold())"
   ]
  },
  {
   "cell_type": "code",
   "execution_count": 34,
   "id": "82893789-dc81-4149-99ea-9387772ff362",
   "metadata": {},
   "outputs": [
    {
     "name": "stdout",
     "output_type": "stream",
     "text": [
      "'Henry ' 'Henry'\n"
     ]
    }
   ],
   "source": [
    "# Stripping\n",
    "\n",
    "name1 = 'Henry '\n",
    "print(\"'\" + name1 + \"'\", \"'\" + name1.rstrip(' ') + \"'\")"
   ]
  },
  {
   "cell_type": "code",
   "execution_count": 36,
   "id": "0d38ced1-8032-4a9a-a3e3-b7c2399b3cba",
   "metadata": {},
   "outputs": [
    {
     "name": "stdout",
     "output_type": "stream",
     "text": [
      "'\t \tAAA\t \t' 'AAA'\n",
      "CCCCC\n"
     ]
    }
   ],
   "source": [
    "# Stripping both sides\n",
    "\n",
    "name2 = '\\t \\tAAA\\t \\t'\n",
    "print(\"'\" + name2 + \"'\", \"'\" + name2.strip() + \"'\")\n",
    "\n",
    "name3 = 'aaabbCCCCCababba'\n",
    "print(name3.strip('ab'))"
   ]
  },
  {
   "cell_type": "code",
   "execution_count": 40,
   "id": "162c2642-de47-4747-a98c-17459cb15600",
   "metadata": {},
   "outputs": [
    {
     "name": "stdout",
     "output_type": "stream",
     "text": [
      "['1', ' Sofia', ' 1000']\n",
      "1  Sofia  1000\n",
      "1 Sofia 1000\n",
      "1,---Sofia,---1000\n"
     ]
    }
   ],
   "source": [
    "# Splitting a string on a separator\n",
    "\n",
    "field = '1, Sofia, 1000'\n",
    "\n",
    "field_in_list = field.split(',')\n",
    "print(field_in_list)\n",
    "\n",
    "# Unpacking\n",
    "id, city, value = field.split(',')\n",
    "print(id, city, value)\n",
    "\n",
    "id = id.strip()\n",
    "city = city.strip()\n",
    "value = value.strip()\n",
    "print(id, city, value)\n",
    "\n",
    "# join back\n",
    "fixed_list = [id, city, value]\n",
    "field2 = ',---'.join(fixed_list)\n",
    "print(field2)"
   ]
  },
  {
   "cell_type": "code",
   "execution_count": 42,
   "id": "2833a732-dbc8-4f59-a7c9-ddd4fc5060f3",
   "metadata": {},
   "outputs": [
    {
     "name": "stdout",
     "output_type": "stream",
     "text": [
      "+*+*+*+*+*+*+*+*+*+*+*+*+*+*+*+*+*+*+*+\n",
      "+  *  +  *  +  *  +  *  +  *  +  *  +  *  +  *  +  *  +  *  +  *  +  *  +  *  +  *  +  *  +  *  +  *  +  *  +  *  +\n"
     ]
    }
   ],
   "source": [
    "# Join on string\n",
    "\n",
    "a = '*'.join('+' * 20)\n",
    "print(a)\n",
    "\n",
    "a = '  '.join(a)\n",
    "print(a)"
   ]
  },
  {
   "cell_type": "code",
   "execution_count": 47,
   "id": "c898f428-fe31-42d1-8c3b-6a2fb4948763",
   "metadata": {},
   "outputs": [
    {
     "name": "stdout",
     "output_type": "stream",
     "text": [
      "True\n",
      "False\n",
      "True\n"
     ]
    }
   ],
   "source": [
    "# Containment test\n",
    "\n",
    "b = 'aBdecsecdefeddses'\n",
    "print('cde' in b)\n",
    "print('bdec' in b)\n",
    "print('bdec'.casefold() in b.casefold())"
   ]
  },
  {
   "cell_type": "code",
   "execution_count": 48,
   "id": "6a28346e-8f92-4b50-88d1-1346601d0e6b",
   "metadata": {},
   "outputs": [
    {
     "name": "stdout",
     "output_type": "stream",
     "text": [
      "True\n"
     ]
    }
   ],
   "source": [
    "# In works with any sequence\n",
    "\n",
    "print(1 in [1, 2, 3])"
   ]
  },
  {
   "cell_type": "code",
   "execution_count": 50,
   "id": "588240ca-02dd-4ea0-9afe-001702b4cfc8",
   "metadata": {},
   "outputs": [
    {
     "name": "stdout",
     "output_type": "stream",
     "text": [
      "True\n",
      "True\n"
     ]
    }
   ],
   "source": [
    "# Some specific containment methods\n",
    "\n",
    "print('Bulgaria'.startswith('Bul'))\n",
    "print('Plovdiv'.casefold().endswith('DIV'.casefold()))"
   ]
  },
  {
   "cell_type": "code",
   "execution_count": 52,
   "id": "ac87101b-e576-4399-a6b0-a9a9385d5ea1",
   "metadata": {},
   "outputs": [
    {
     "name": "stdout",
     "output_type": "stream",
     "text": [
      "10\n"
     ]
    }
   ],
   "source": [
    "# Find the position of a substring\n",
    "\n",
    "# Choice 1: index\n",
    "\n",
    "c = \"If you've nothing nice to say, say nothing.\"\n",
    "print(c.index('nothing'))\n",
    "# it returns the index of the first match\n"
   ]
  },
  {
   "cell_type": "code",
   "execution_count": 53,
   "id": "e2959bb3-4c0e-418f-bada-b88926718431",
   "metadata": {},
   "outputs": [
    {
     "data": {
      "text/plain": [
       "\u001b[0;31mDocstring:\u001b[0m\n",
       "S.index(sub[, start[, end]]) -> int\n",
       "\n",
       "Return the lowest index in S where substring sub is found,\n",
       "such that sub is contained within S[start:end].  Optional\n",
       "arguments start and end are interpreted as in slice notation.\n",
       "\n",
       "Raises ValueError when the substring is not found.\n",
       "\u001b[0;31mType:\u001b[0m      method_descriptor"
      ]
     },
     "metadata": {},
     "output_type": "display_data"
    }
   ],
   "source": [
    "# Getting help\n",
    "\n",
    "?str.index"
   ]
  },
  {
   "cell_type": "code",
   "execution_count": 60,
   "id": "c86d0e6d-9906-4e82-8ab9-7e7dbc591f84",
   "metadata": {},
   "outputs": [
    {
     "name": "stdout",
     "output_type": "stream",
     "text": [
      "1.855871011968702 7.792377354984637 6.266531792993192\n"
     ]
    }
   ],
   "source": [
    "from timeit import timeit\n",
    "\n",
    "c1 = timeit(\"'say' in c\", globals=globals(), number = 100_000_000)\n",
    "c2 = timeit(\"c.index('say')\", globals=globals(), number = 100_000_000)\n",
    "c3 = timeit(\"c.find('say')\", globals=globals(), number = 100_000_000)\n",
    "\n",
    "print(c1, c2, c3)"
   ]
  },
  {
   "cell_type": "markdown",
   "id": "0b846fad-6835-4740-b777-76f246ec095d",
   "metadata": {},
   "source": [
    "66. String Interpolation - Coding"
   ]
  },
  {
   "cell_type": "code",
   "execution_count": 63,
   "id": "4bed0938-1845-43c2-8e49-c01261423b4c",
   "metadata": {},
   "outputs": [
    {
     "name": "stdout",
     "output_type": "stream",
     "text": [
      "The object is 70 width, 30 high, 10 in dept\n",
      "The object is 70 width, 30 high, 10 in dept\n"
     ]
    }
   ],
   "source": [
    "# Basics\n",
    "\n",
    "width, high, dept = 70, 30, 10\n",
    "\n",
    "# Positioned placeholders - it is important to place the values in the same order\n",
    "print('The object is {} width, {} high, {} in dept'.format(width, high, dept))\n",
    "\n",
    "# Named placeholders - no need of specific order\n",
    "print('The object is {w} width, {h} high, {d} in dept'.format(d = dept, w = width, h = high))"
   ]
  },
  {
   "cell_type": "code",
   "execution_count": 62,
   "id": "b7f0d6c8-8f86-4b7c-81f5-88c7290c3616",
   "metadata": {},
   "outputs": [
    {
     "name": "stdout",
     "output_type": "stream",
     "text": [
      "The city Sofia has population of 1500000 as per the last year.\n"
     ]
    }
   ],
   "source": [
    "# f string\n",
    "\n",
    "city = 'Sofia'\n",
    "population = 1_500_000\n",
    "\n",
    "print(f'The city {city} has population of {population} as per the last year.')"
   ]
  },
  {
   "cell_type": "code",
   "execution_count": 64,
   "id": "eef8bde7-f176-4f31-b786-33ab2a68e828",
   "metadata": {},
   "outputs": [
    {
     "name": "stdout",
     "output_type": "stream",
     "text": [
      "The object is 70.1437 width, 30.00 high, 10.230 in dept\n",
      "The object is 70.1437 width, 30.00 high, 10.230 in dept\n",
      "The object is 70.1437 width, 30.00 high, 10.230 in dept\n"
     ]
    }
   ],
   "source": [
    "# formatting\n",
    "\n",
    "width, high, dept = 70.1437, 30.002121, 10.23\n",
    "\n",
    "print('The object is {:.4f} width, {:.2f} high, {:.3f} in dept'.format(width, high, dept))\n",
    "print('The object is {w:.4f} width, {h:.2f} high, {d:.3f} in dept'.format(d = dept, w = width, h = high))\n",
    "print(f'The object is {width:.4f} width, {high:.2f} high, {dept:.3f} in dept')"
   ]
  },
  {
   "cell_type": "markdown",
   "id": "f706d362-36c0-4b6a-816a-44a008ead0db",
   "metadata": {},
   "source": [
    "# Excercises"
   ]
  },
  {
   "cell_type": "markdown",
   "id": "8bd9d34a-2dd5-40c8-9410-900a74933cf1",
   "metadata": {},
   "source": [
    "Given this string of comma separated characters, create three new variables containing the unicode codepoint (in hex), uppercase and lower case versions of each character (also comma delimited).\n",
    "\n",
    "For example, if the string was `'a, b, c'` you should generate three lists that look like:\n",
    "* `['0x61', '0x62', '0x63']`\n",
    "* `['a', 'b', 'c']`\n",
    "* `['A', 'B', 'C']`\n",
    "\n",
    "[You should use the `split()` and `strip()` functions, amongst others, to help you solve this.]"
   ]
  },
  {
   "cell_type": "code",
   "execution_count": 65,
   "id": "3b13e866-afa3-4ac7-8d0a-927f6a3b51c7",
   "metadata": {},
   "outputs": [],
   "source": [
    "s = 'Π, ύ, θ, ω, ν'"
   ]
  },
  {
   "cell_type": "code",
   "execution_count": 79,
   "id": "a246fffb-db3b-4ee2-8365-9e542fdcd843",
   "metadata": {},
   "outputs": [
    {
     "name": "stdout",
     "output_type": "stream",
     "text": [
      "['Π', 'ύ', 'θ', 'ω', 'ν']\n",
      "['0x3a0', '0x3cd', '0x3b8', '0x3c9', '0x3bd']\n",
      "['π', 'ύ', 'θ', 'ω', 'ν']\n",
      "['Π', 'Ύ', 'Θ', 'Ω', 'Ν']\n"
     ]
    }
   ],
   "source": [
    "from copy import deepcopy\n",
    "\n",
    "s_list = s.split(',')\n",
    "\n",
    "s_list[0] = s_list[0].strip(' ')\n",
    "s_list[1] = s_list[1].strip(' ')\n",
    "s_list[2] = s_list[2].strip(' ')\n",
    "s_list[3] = s_list[3].strip(' ')\n",
    "s_list[4] = s_list[4].strip(' ')\n",
    "\n",
    "print(s_list)\n",
    "\n",
    "s_list_hex = deepcopy(s_list)\n",
    "s_list_lower = deepcopy(s_list)\n",
    "s_list_upper = deepcopy(s_list)\n",
    "\n",
    "s_list_upper[0] = s_list[0].upper()\n",
    "s_list_upper[1] = s_list[1].upper()\n",
    "s_list_upper[2] = s_list[2].upper()\n",
    "s_list_upper[3] = s_list[3].upper()\n",
    "s_list_upper[4] = s_list[4].upper()\n",
    "\n",
    "s_list_lower[0] = s_list[0].lower()\n",
    "s_list_lower[1] = s_list[1].lower()\n",
    "s_list_lower[2] = s_list[2].lower()\n",
    "s_list_lower[3] = s_list[3].lower()\n",
    "s_list_lower[4] = s_list[4].lower()\n",
    "\n",
    "s_list_hex[0] = hex(ord(s_list[0]))\n",
    "s_list_hex[1] = hex(ord(s_list[1]))\n",
    "s_list_hex[2] = hex(ord(s_list[2]))\n",
    "s_list_hex[3] = hex(ord(s_list[3]))\n",
    "s_list_hex[4] = hex(ord(s_list[4]))\n",
    "\n",
    "print(s_list_hex)\n",
    "print(s_list_lower)\n",
    "print(s_list_upper)"
   ]
  },
  {
   "cell_type": "markdown",
   "id": "c272f958-1909-425b-90ae-12eaa762ae1b",
   "metadata": {},
   "source": [
    "Using two types of string interpolation, and given the variable a that contains an integer, print out the following string for a:\n",
    "\n",
    "The number ...value of a... is (or is not) even\n",
    "\n",
    "For example, if a is 42, the your code should print:\n",
    "\n",
    "'The number 42 is even'\n",
    "\n",
    "But if a is 31, then the same code should print:\n",
    "\n",
    "'The number 31 is not even'\n",
    "\n"
   ]
  },
  {
   "cell_type": "code",
   "execution_count": 84,
   "id": "6006cbcd-d22e-428b-828b-910f6d90ae06",
   "metadata": {},
   "outputs": [
    {
     "name": "stdout",
     "output_type": "stream",
     "text": [
      "The number 42 is even\n",
      "The number 42 is even\n",
      "The number 42 is even\n"
     ]
    }
   ],
   "source": [
    "val = 42\n",
    "stat = 'is not'\n",
    "\n",
    "if val % 2 == 0:\n",
    "    stat = 'is'\n",
    "\n",
    "print('The number {} {} even'.format(val, stat))\n",
    "print(f'The number {val} {stat} even')\n",
    "print(f'The number {val} {'is' if val % 2 == 0 else 'is not'} even')"
   ]
  },
  {
   "cell_type": "markdown",
   "id": "59599375-aa7f-4370-8a9a-90e037e24a65",
   "metadata": {},
   "source": [
    "You are given two variables `a` and `b` (with `b` non-zero), and you need to generate a string that reads something like this:\n",
    "\n",
    "```\n",
    "'a / b = (result)'\n",
    "```\n",
    "\n",
    "But you want your string to be nicely formatted for display purposes, so you want to limit displaying possible digits after the decimal point in all your values to 4 digits."
   ]
  },
  {
   "cell_type": "code",
   "execution_count": 88,
   "id": "bd33bf95-5071-421e-adab-493b2f38dea9",
   "metadata": {},
   "outputs": [
    {
     "name": "stdout",
     "output_type": "stream",
     "text": [
      "21 / 5 = (4.2000)\n"
     ]
    }
   ],
   "source": [
    "a = 21\n",
    "b = 5\n",
    "\n",
    "print(f'{a} / {b} = ({ a / b:.4f})')"
   ]
  },
  {
   "cell_type": "code",
   "execution_count": null,
   "id": "830a2d23-08bb-4aeb-83a8-86480f8dc6eb",
   "metadata": {},
   "outputs": [],
   "source": []
  }
 ],
 "metadata": {
  "kernelspec": {
   "display_name": "Python 3 (ipykernel)",
   "language": "python",
   "name": "python3"
  },
  "language_info": {
   "codemirror_mode": {
    "name": "ipython",
    "version": 3
   },
   "file_extension": ".py",
   "mimetype": "text/x-python",
   "name": "python",
   "nbconvert_exporter": "python",
   "pygments_lexer": "ipython3",
   "version": "3.12.3"
  }
 },
 "nbformat": 4,
 "nbformat_minor": 5
}
