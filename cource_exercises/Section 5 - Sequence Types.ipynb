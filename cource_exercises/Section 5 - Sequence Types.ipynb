{
 "cells": [
  {
   "cell_type": "markdown",
   "id": "42f4dc5a-41a8-441f-943e-7ede36967f64",
   "metadata": {},
   "source": [
    "46. Lists - Coding"
   ]
  },
  {
   "cell_type": "code",
   "execution_count": 37,
   "id": "9338bce9-b82e-4072-9d16-3128b461e51b",
   "metadata": {},
   "outputs": [
    {
     "name": "stdout",
     "output_type": "stream",
     "text": [
      "[10, 20, 30, 40, 50] <class 'list'>\n",
      "20 10 5\n"
     ]
    }
   ],
   "source": [
    "# Basics\n",
    "l = [10, 20, 30, 40, 50]\n",
    "print(l, type(l))\n",
    "print(l[1], l[0], len(l))"
   ]
  },
  {
   "cell_type": "code",
   "execution_count": 38,
   "id": "75f31364-95d4-418a-8b44-0a22396eee58",
   "metadata": {},
   "outputs": [
    {
     "ename": "TypeError",
     "evalue": "'list' object is not callable",
     "output_type": "error",
     "traceback": [
      "\u001b[0;31m---------------------------------------------------------------------------\u001b[0m",
      "\u001b[0;31mTypeError\u001b[0m                                 Traceback (most recent call last)",
      "Cell \u001b[0;32mIn[38], line 2\u001b[0m\n\u001b[1;32m      1\u001b[0m \u001b[38;5;66;03m# Out of range index throws an error\u001b[39;00m\n\u001b[0;32m----> 2\u001b[0m \u001b[43ml\u001b[49m\u001b[43m(\u001b[49m\u001b[38;5;241;43m5\u001b[39;49m\u001b[43m)\u001b[49m\n",
      "\u001b[0;31mTypeError\u001b[0m: 'list' object is not callable"
     ]
    }
   ],
   "source": [
    "# Out of range index throws an error\n",
    "l(5)"
   ]
  },
  {
   "cell_type": "code",
   "execution_count": 39,
   "id": "4461b8ac-1340-4172-b2c6-9d0f9e246c94",
   "metadata": {},
   "outputs": [
    {
     "data": {
      "text/plain": [
       "(50, 10)"
      ]
     },
     "execution_count": 39,
     "metadata": {},
     "output_type": "execute_result"
    }
   ],
   "source": [
    "# Negative indes - start to count backwards\n",
    "(l[-1], l[-5])"
   ]
  },
  {
   "cell_type": "code",
   "execution_count": 40,
   "id": "3da8d4bb-a954-4885-b88d-02d52c827aed",
   "metadata": {},
   "outputs": [
    {
     "ename": "IndexError",
     "evalue": "list index out of range",
     "output_type": "error",
     "traceback": [
      "\u001b[0;31m---------------------------------------------------------------------------\u001b[0m",
      "\u001b[0;31mIndexError\u001b[0m                                Traceback (most recent call last)",
      "Cell \u001b[0;32mIn[40], line 2\u001b[0m\n\u001b[1;32m      1\u001b[0m \u001b[38;5;66;03m# Out of range even with negative indexes\u001b[39;00m\n\u001b[0;32m----> 2\u001b[0m \u001b[43ml\u001b[49m\u001b[43m[\u001b[49m\u001b[38;5;241;43m-\u001b[39;49m\u001b[38;5;241;43m6\u001b[39;49m\u001b[43m]\u001b[49m\n",
      "\u001b[0;31mIndexError\u001b[0m: list index out of range"
     ]
    }
   ],
   "source": [
    "# Out of range even with negative indexes\n",
    "l[-6]"
   ]
  },
  {
   "cell_type": "code",
   "execution_count": 42,
   "id": "f69d84e2-b666-48fa-9f48-eef35ba4838e",
   "metadata": {},
   "outputs": [
    {
     "name": "stdout",
     "output_type": "stream",
     "text": [
      "[] <class 'list'>\n"
     ]
    }
   ],
   "source": [
    "# Empty list\n",
    "l1 = list()\n",
    "print(l1, type(l1))"
   ]
  },
  {
   "cell_type": "code",
   "execution_count": 44,
   "id": "e3b656b5-b828-4941-8f0e-b80ce126dded",
   "metadata": {},
   "outputs": [
    {
     "name": "stdout",
     "output_type": "stream",
     "text": [
      "[10, 20, 3.14, 40, 50]\n",
      "[10, 20, 3.14, 40, 'Hello']\n"
     ]
    }
   ],
   "source": [
    "# Change a list element\n",
    "l[2] = 3.14\n",
    "print(l)\n",
    "l[-1] = 'Hello'\n",
    "print(l)"
   ]
  },
  {
   "cell_type": "code",
   "execution_count": 45,
   "id": "b2ef0cb1-367e-4df6-9da5-fb19b5c2e5c5",
   "metadata": {},
   "outputs": [
    {
     "ename": "IndexError",
     "evalue": "list assignment index out of range",
     "output_type": "error",
     "traceback": [
      "\u001b[0;31m---------------------------------------------------------------------------\u001b[0m",
      "\u001b[0;31mIndexError\u001b[0m                                Traceback (most recent call last)",
      "Cell \u001b[0;32mIn[45], line 2\u001b[0m\n\u001b[1;32m      1\u001b[0m \u001b[38;5;66;03m# Can not assign out of range\u001b[39;00m\n\u001b[0;32m----> 2\u001b[0m \u001b[43ml\u001b[49m\u001b[43m[\u001b[49m\u001b[38;5;241;43m5\u001b[39;49m\u001b[43m]\u001b[49m \u001b[38;5;241m=\u001b[39m \u001b[38;5;124m'\u001b[39m\u001b[38;5;124mWorld\u001b[39m\u001b[38;5;124m'\u001b[39m\n",
      "\u001b[0;31mIndexError\u001b[0m: list assignment index out of range"
     ]
    }
   ],
   "source": [
    "# Can not assign out of range\n",
    "l[5] = 'World'"
   ]
  },
  {
   "cell_type": "markdown",
   "id": "d2bd083a-513f-47e1-923e-c6c74e24c0eb",
   "metadata": {},
   "source": [
    "48. Tuples - Coding"
   ]
  },
  {
   "cell_type": "code",
   "execution_count": 29,
   "id": "59d43835-6bc2-4dfc-b020-0c1945ba3ddf",
   "metadata": {},
   "outputs": [
    {
     "name": "stdout",
     "output_type": "stream",
     "text": [
      "(1, 2, 3) <class 'tuple'> 1 3 2 3\n"
     ]
    }
   ],
   "source": [
    "# Basics\n",
    "t = (1, 2, 3)\n",
    "print(t, type(t), t[0], t[-1], t[1], len(t))"
   ]
  },
  {
   "cell_type": "code",
   "execution_count": 7,
   "id": "8595ce84-9c5d-47de-8ba5-5c8ff69ca0d3",
   "metadata": {},
   "outputs": [
    {
     "data": {
      "text/plain": [
       "(3, 3)"
      ]
     },
     "execution_count": 7,
     "metadata": {},
     "output_type": "execute_result"
    }
   ],
   "source": [
    "# Reaching the last element\n",
    "t[-1], t[len(t) -1]"
   ]
  },
  {
   "cell_type": "code",
   "execution_count": 35,
   "id": "b6e1462f-0668-4e40-94b0-df3a4105499a",
   "metadata": {},
   "outputs": [
    {
     "name": "stdout",
     "output_type": "stream",
     "text": [
      "Initially ([1, 2], [3, 4])\n",
      "First Modification:  ([100, 2], [3, 4])\n",
      "Second modification:  ([100, 2], [3, 400])\n"
     ]
    }
   ],
   "source": [
    "# Changing the mutable element of a tuple\n",
    "t=([1, 2], [3, 4])\n",
    "print('Initially: ', t)\n",
    "l = t[0]\n",
    "l[0] = 100\n",
    "print('First Modification: ', t)\n",
    "t[1][1] = 400\n",
    "print('Second modification: ', t)"
   ]
  },
  {
   "cell_type": "code",
   "execution_count": 36,
   "id": "cd170ff5-5efc-4f6e-bd6a-5e63f34794ef",
   "metadata": {},
   "outputs": [
    {
     "data": {
      "text/plain": [
       "((1, 2), tuple)"
      ]
     },
     "execution_count": 36,
     "metadata": {},
     "output_type": "execute_result"
    }
   ],
   "source": [
    "# No need of parentheses\n",
    "t1 = 1, 2\n",
    "t1, type(t1)"
   ]
  },
  {
   "cell_type": "code",
   "execution_count": 27,
   "id": "e9c4a6f7-f1c4-42dd-abf0-46a087ba8be8",
   "metadata": {},
   "outputs": [
    {
     "data": {
      "text/plain": [
       "((), tuple, 0)"
      ]
     },
     "execution_count": 27,
     "metadata": {},
     "output_type": "execute_result"
    }
   ],
   "source": [
    "# Empty tuple\n",
    "t_empty = ()\n",
    "t_empty, type(t_empty), len(t_empty)"
   ]
  },
  {
   "cell_type": "code",
   "execution_count": 22,
   "id": "b8320435-108c-43aa-9f3b-26dfb8da195d",
   "metadata": {},
   "outputs": [
    {
     "data": {
      "text/plain": [
       "((1, 2, 3, 4, 5), tuple, 5)"
      ]
     },
     "execution_count": 22,
     "metadata": {},
     "output_type": "execute_result"
    }
   ],
   "source": [
    "# Tuple can be created taking any other sequence\n",
    "l1 = [1, 2, 3, 4, 5]\n",
    "t3 = tuple(l1)\n",
    "t3, type(t3), len(t3)"
   ]
  },
  {
   "cell_type": "code",
   "execution_count": 23,
   "id": "ca1af732-8e84-4c09-9f46-42a3e7202e3d",
   "metadata": {},
   "outputs": [
    {
     "data": {
      "text/plain": [
       "([1, 2, 3, 4, 5], list, 5)"
      ]
     },
     "execution_count": 23,
     "metadata": {},
     "output_type": "execute_result"
    }
   ],
   "source": [
    "# It is possible to be done the opposite - a list to be created from a typle\n",
    "l2 = list(t3)\n",
    "l2, type(l2), len(l2)"
   ]
  },
  {
   "cell_type": "code",
   "execution_count": 25,
   "id": "45c6310d-379b-4b7d-b18c-cb7a1254025c",
   "metadata": {},
   "outputs": [
    {
     "name": "stdout",
     "output_type": "stream",
     "text": [
      "(10, 20, 30, 40, 50)\n"
     ]
    }
   ],
   "source": [
    "# Tuples are immutable. But if we want to correct a value in a tuple\n",
    "t4 = 10, 20, 3, 40, 50\n",
    "l4 = list(t4)\n",
    "l4[2] = 30\n",
    "t4 = tuple(l4)\n",
    "print(t4)"
   ]
  },
  {
   "cell_type": "markdown",
   "id": "00daf38c-bf8b-4c36-bff2-14619fbd330c",
   "metadata": {},
   "source": [
    "50. Strings - Coding"
   ]
  },
  {
   "cell_type": "code",
   "execution_count": 46,
   "id": "f761cfd6-a5d8-4d83-8af8-d15f3b572c05",
   "metadata": {},
   "outputs": [],
   "source": [
    "# Basics\n",
    "a = 'hello'\n",
    "b = \"Python\""
   ]
  },
  {
   "cell_type": "code",
   "execution_count": 47,
   "id": "22ff1186-90b4-415e-b906-918271f660f4",
   "metadata": {},
   "outputs": [
    {
     "name": "stdout",
     "output_type": "stream",
     "text": [
      "Python's best features Python's best features\n"
     ]
    }
   ],
   "source": [
    "# Delimiter characters in the string\n",
    "a1 = \"Python's best features\"\n",
    "a2 = 'Python\\'s best features'\n",
    "print (a1, a2)"
   ]
  },
  {
   "cell_type": "code",
   "execution_count": 48,
   "id": "fe7d52c9-9ea9-42ed-8795-ac9659943ea1",
   "metadata": {},
   "outputs": [
    {
     "name": "stdout",
     "output_type": "stream",
     "text": [
      "P y 13 ! !\n"
     ]
    }
   ],
   "source": [
    "# Index\n",
    "s = 'Python rocks!'\n",
    "print(s[0], s[1], len(s), s[len(s) - 1], s[-1])"
   ]
  },
  {
   "cell_type": "code",
   "execution_count": 49,
   "id": "5e8881ae-f445-4405-9f69-620b4fb76c94",
   "metadata": {},
   "outputs": [
    {
     "ename": "TypeError",
     "evalue": "'str' object does not support item assignment",
     "output_type": "error",
     "traceback": [
      "\u001b[0;31m---------------------------------------------------------------------------\u001b[0m",
      "\u001b[0;31mTypeError\u001b[0m                                 Traceback (most recent call last)",
      "Cell \u001b[0;32mIn[49], line 2\u001b[0m\n\u001b[1;32m      1\u001b[0m \u001b[38;5;66;03m# Immutable\u001b[39;00m\n\u001b[0;32m----> 2\u001b[0m \u001b[43ms\u001b[49m\u001b[43m[\u001b[49m\u001b[38;5;241;43m0\u001b[39;49m\u001b[43m]\u001b[49m \u001b[38;5;241m=\u001b[39m \u001b[38;5;124m'\u001b[39m\u001b[38;5;124mX\u001b[39m\u001b[38;5;124m'\u001b[39m\n",
      "\u001b[0;31mTypeError\u001b[0m: 'str' object does not support item assignment"
     ]
    }
   ],
   "source": [
    "# Immutable\n",
    "s[0] = 'X'"
   ]
  },
  {
   "cell_type": "code",
   "execution_count": 50,
   "id": "4fc847e0-e7df-40c9-9b03-43e57b22270d",
   "metadata": {},
   "outputs": [
    {
     "name": "stdout",
     "output_type": "stream",
     "text": [
      "<class 'str'> 0 <class 'str'> 0 <class 'str'> 0\n"
     ]
    }
   ],
   "source": [
    "# Empty strings\n",
    "a2 = ''\n",
    "b2 = \"\"\n",
    "c2 = str()\n",
    "print (type(a2), len(a2), type(b2), len(b2), type(c2), len(c2))"
   ]
  },
  {
   "cell_type": "code",
   "execution_count": 54,
   "id": "e7da942b-7da5-4730-9e7d-409903d7c85d",
   "metadata": {},
   "outputs": [
    {
     "name": "stdout",
     "output_type": "stream",
     "text": [
      "(1, 2, 3)\n",
      "(1, 2, 3)\n",
      "( 9\n"
     ]
    }
   ],
   "source": [
    "# str function can take arbitrary sequence type and convert it to str\n",
    "t = (1, 2, 3)\n",
    "print(t)\n",
    "s3 = str(t)\n",
    "print(s3)\n",
    "# The string representation of the typle is exactly '(1, 2, 3)', not '123'\n",
    "print(s3[0], len(s3))"
   ]
  },
  {
   "cell_type": "code",
   "execution_count": 57,
   "id": "a5ea3690-a400-4fe3-b33d-3ab93c5ddc87",
   "metadata": {},
   "outputs": [
    {
     "name": "stdout",
     "output_type": "stream",
     "text": [
      "('P', 'y', 't', 'h', 'o', 'n')\n",
      "['P', 'y', 't', 'h', 'o', 'n']\n",
      "['a', 'b', 'c', 'd', 'e', 'f']\n"
     ]
    }
   ],
   "source": [
    "# strings could be passed to other sequence types\n",
    "s4 = 'Python'\n",
    "t4 = tuple(s4)\n",
    "print(t4)\n",
    "l4 = list(s4)\n",
    "print(l4)\n",
    "l4_2 = list('abcdef')\n",
    "print(l4_2)"
   ]
  },
  {
   "cell_type": "code",
   "execution_count": 60,
   "id": "953af03c-2408-4bc5-b5ed-87601e59f516",
   "metadata": {},
   "outputs": [
    {
     "name": "stdout",
     "output_type": "stream",
     "text": [
      "==============================\n",
      "~*~ () ~*~ () ~*~ () ~*~ () ~*~ () ~*~ () ~*~ () ~*~ () ~*~ () ~*~ () \n"
     ]
    }
   ],
   "source": [
    "# Multiplication of strings\n",
    "s5 = '=' * 30\n",
    "print(s5)\n",
    "s5_2 = '~*~ () ' * 10\n",
    "print (s5_2)"
   ]
  },
  {
   "cell_type": "code",
   "execution_count": 63,
   "id": "6ac667a5-b0f3-48e4-9933-1085fd10e031",
   "metadata": {},
   "outputs": [
    {
     "name": "stdout",
     "output_type": "stream",
     "text": [
      "(1, 2, 3, 1, 2, 3, 1, 2, 3)\n",
      "[7, 8, 7, 8, 7, 8, 7, 8, 7, 8]\n"
     ]
    }
   ],
   "source": [
    "# Multiplication works with tuples and lists as well\n",
    "t5 = (1, 2, 3) * 3\n",
    "l5 = [7, 8] * 5\n",
    "print (t5)\n",
    "print (l5)"
   ]
  },
  {
   "cell_type": "code",
   "execution_count": 65,
   "id": "704a83e5-8f81-47eb-9a91-c5ece6976c02",
   "metadata": {},
   "outputs": [
    {
     "name": "stdout",
     "output_type": "stream",
     "text": [
      "[[0, 0, 0], [0, 0, 0], [0, 0, 0]]\n",
      "[[1, 0, 0], [1, 0, 0], [1, 0, 0]]\n"
     ]
    }
   ],
   "source": [
    "# CAREFUL - the multiplication repeats the object\n",
    "m = [[0, 0, 0]] * 3\n",
    "print (m)\n",
    "m[0][0] = 1\n",
    "print (m)\n",
    "# see that all rows changed"
   ]
  },
  {
   "cell_type": "markdown",
   "id": "5f8a23a4-adbf-4ff0-af9a-86a61caab7fb",
   "metadata": {},
   "source": [
    "51. Slicing - Lecture "
   ]
  },
  {
   "cell_type": "code",
   "execution_count": 70,
   "id": "fcbbbc46-9b17-4600-b79f-0e8d7f974362",
   "metadata": {},
   "outputs": [
    {
     "name": "stdout",
     "output_type": "stream",
     "text": [
      "n\n",
      "Python\n"
     ]
    }
   ],
   "source": [
    "# Basics\n",
    "s = 'Python rocks!'\n",
    "print(s[5])\n",
    "print(s[0:5+1])"
   ]
  },
  {
   "cell_type": "code",
   "execution_count": 79,
   "id": "07af600c-b99b-4099-a1a1-a9ba7266f580",
   "metadata": {},
   "outputs": [
    {
     "name": "stdout",
     "output_type": "stream",
     "text": [
      "Python <class 'str'>\n",
      "(2, 3) <class 'tuple'>\n",
      "[10, 20] <class 'list'>\n"
     ]
    }
   ],
   "source": [
    "# Slicing returns the same type as the type being sliced\n",
    "print (s[0:6], type(s[0:6]))\n",
    "t = (1, 2, 3, 4, 5)\n",
    "print(t[1:3], type(t[1:3]))\n",
    "l = [10, 20, 30]\n",
    "print (l[:2], type(l[:2]))"
   ]
  },
  {
   "cell_type": "code",
   "execution_count": 82,
   "id": "621c53fe-9953-44e2-ad15-4545f379223a",
   "metadata": {},
   "outputs": [
    {
     "name": "stdout",
     "output_type": "stream",
     "text": [
      "Is l2 same object like l2_1:  False\n",
      "[10, 2, 3, 4, 5]\n",
      "[1, 2, 3]\n"
     ]
    }
   ],
   "source": [
    "# Slicers will return a new object\n",
    "l2 = [1, 2, 3, 4, 5]\n",
    "l2_1 = l2[0:3]\n",
    "print ('Is l2 same object like l2_1: ', l2 is l2_1)\n",
    "\n",
    "# this means we can mutate these two elements independently\n",
    "l2[0] = 10\n",
    "print(l2)\n",
    "print(l2_1)"
   ]
  },
  {
   "cell_type": "code",
   "execution_count": 87,
   "id": "dc55938e-a4be-4fab-9539-8ee08d5d5dd2",
   "metadata": {},
   "outputs": [
    {
     "name": "stdout",
     "output_type": "stream",
     "text": [
      "[[0, 1], [2, 3]] [[0, 1]] False\n",
      "[[0, 4], [2, 3]] [[0, 4]] True\n"
     ]
    }
   ],
   "source": [
    "# If the elements of the sequence are mutable objects, changing the sequence or the slice will change the other object as well\n",
    "l3 = [[0, 1], [2, 3]]\n",
    "l3sub = l3[0:1]\n",
    "print(l3, l3sub, l3 is l3sub)\n",
    "l3sub[0][1] = 4\n",
    "print(l3, l3sub, l3[0] is l3sub[0])"
   ]
  },
  {
   "cell_type": "code",
   "execution_count": 89,
   "id": "f8b18ecc-bd48-4f52-be8a-c009882cca10",
   "metadata": {},
   "outputs": [
    {
     "name": "stdout",
     "output_type": "stream",
     "text": [
      "Python rocks! rocks! Python\n"
     ]
    }
   ],
   "source": [
    "# Start and end left blank\n",
    "l4 = 'Python rocks!'\n",
    "l4_1 = l4[7:]\n",
    "l4_2 = l4[:6]\n",
    "print(l4, l4_1, l4_2)"
   ]
  },
  {
   "cell_type": "code",
   "execution_count": 91,
   "id": "1cc2fe1b-15a8-42e3-89db-2b66d4db1049",
   "metadata": {},
   "outputs": [
    {
     "name": "stdout",
     "output_type": "stream",
     "text": [
      "False\n"
     ]
    }
   ],
   "source": [
    "# Shallow copy - copy of the collection, but not makes copy of the objects inside the collection\n",
    "l5 = [1, 2, 3, 4, 5]\n",
    "l5_1 = l5[:]\n",
    "print (l5 is l5_1)"
   ]
  },
  {
   "cell_type": "code",
   "execution_count": 96,
   "id": "843db7b2-732a-45ca-b023-e6568b328dfe",
   "metadata": {},
   "outputs": [
    {
     "name": "stdout",
     "output_type": "stream",
     "text": [
      "[2, 4, 6, 8]\n",
      "[2, 4, 6, 8, 10]\n",
      "[1, 3, 5, 7, 9]\n"
     ]
    }
   ],
   "source": [
    "# Step slicing\n",
    "l6 = [1, 2, 3, 4, 5, 6, 7, 8, 9, 10]\n",
    "l6_1 = l6[1: 8: 2]\n",
    "print (l6_1)\n",
    "# We can ommit the start or the end\n",
    "l6_2 = l6[1::2]\n",
    "print(l6_2)\n",
    "# we can even ommit the start and the end simultaneously\n",
    "l6_3 = l6[::2]\n",
    "print(l6_3)"
   ]
  },
  {
   "cell_type": "code",
   "execution_count": 104,
   "id": "f9c3f8e5-161b-4a0c-a065-15db78c88d88",
   "metadata": {},
   "outputs": [
    {
     "name": "stdout",
     "output_type": "stream",
     "text": [
      "cde\n",
      "''\n",
      "fed\n"
     ]
    }
   ],
   "source": [
    "# Negative slicing\n",
    "l7 = 'abcdef'\n",
    "l7_1 = l7[-4: -1]\n",
    "print(l7_1)\n",
    "\n",
    "# If the end is lower than the start and the direction is positive, we receive empty collection\n",
    "l7_2 = l7[-1:-4]\n",
    "print(\"'\"+l7_2+\"'\")\n",
    "\n",
    "# If the end is lower and the start is higher, but the direction is negative - we receive reversed part of the collection\n",
    "l7_3 = l7[-1:-4:-1]\n",
    "print(l7_3)"
   ]
  },
  {
   "cell_type": "code",
   "execution_count": 108,
   "id": "7b0feaa8-d54f-4cee-9166-e50d8d3a202e",
   "metadata": {},
   "outputs": [
    {
     "name": "stdout",
     "output_type": "stream",
     "text": [
      "fedc\n",
      "cba\n",
      "cb\n"
     ]
    }
   ],
   "source": [
    "# If we ommit the start during negative direction, Python will decide that the start is the last element\n",
    "l8 = 'abcdef'\n",
    "l8_1 = l8[:-5:-1]\n",
    "print(l8_1)\n",
    "\n",
    "# Similarly if we ommit the end during negative direction, Python will decide that the end is the beginning of the collection\n",
    "l8_2 = l8[2::-1]\n",
    "print(l8_2)\n",
    "\n",
    "# If the direction is negative, 0 set as end will not give us result including the first element of the string\n",
    "l8_3 = l8[2:0:-1]\n",
    "print(l8_3)"
   ]
  },
  {
   "cell_type": "code",
   "execution_count": 109,
   "id": "a6636c19-6c9c-453e-b016-c76ca5013325",
   "metadata": {},
   "outputs": [
    {
     "name": "stdout",
     "output_type": "stream",
     "text": [
      "[100, 30, 2, 1]\n"
     ]
    }
   ],
   "source": [
    "# Reversing a collection\n",
    "l9 = [1, 2, 30, 100]\n",
    "l9_1 = l9[::-1]\n",
    "print(l9_1)"
   ]
  },
  {
   "cell_type": "code",
   "execution_count": 110,
   "id": "4db3636c-3546-463e-a8d2-2639349ccfd0",
   "metadata": {},
   "outputs": [
    {
     "name": "stdout",
     "output_type": "stream",
     "text": [
      "True\n"
     ]
    }
   ],
   "source": [
    "# Check for palindrom\n",
    "l10 = 'racecar'\n",
    "print(l10 == l10[::-1])"
   ]
  },
  {
   "cell_type": "markdown",
   "id": "4c252093-d3c6-4e97-a30a-b85ff650f288",
   "metadata": {},
   "source": [
    "53. Manipulating Sequences - Lecture "
   ]
  },
  {
   "cell_type": "code",
   "execution_count": 112,
   "id": "b0ec3ad7-4311-4390-9108-b75f3a7214e1",
   "metadata": {},
   "outputs": [
    {
     "name": "stdout",
     "output_type": "stream",
     "text": [
      "[10, 20, 30, 40, 50]\n"
     ]
    }
   ],
   "source": [
    "# Basics\n",
    "l1 = [10, 20, 3, 40, 50]\n",
    "l1[2] = 30\n",
    "print(l1)"
   ]
  },
  {
   "cell_type": "code",
   "execution_count": 115,
   "id": "7b20ad7f-7f12-413a-a3a0-59bafa26a997",
   "metadata": {},
   "outputs": [
    {
     "name": "stdout",
     "output_type": "stream",
     "text": [
      "[1, 2, 3, 4, 5, 6, 7]\n"
     ]
    }
   ],
   "source": [
    "# Replace entire slice. There is no need the length to be the same\n",
    "l2 = [1, 20, 30, 6, 7]\n",
    "l2[1:3] = [2, 3, 4, 5]\n",
    "print(l2)"
   ]
  },
  {
   "cell_type": "code",
   "execution_count": 116,
   "id": "df972d1b-9db8-4510-b882-e39f178aa044",
   "metadata": {},
   "outputs": [
    {
     "name": "stdout",
     "output_type": "stream",
     "text": [
      "[1, 'p', 'y', 't', 'h', 'o', 'n', 4, 5]\n"
     ]
    }
   ],
   "source": [
    "#!! Replacing with a string - it will interpret it as a sequence, not individual element\n",
    "l3 = [1, 2, 3, 4, 5]\n",
    "l3[1:3] = 'python'\n",
    "print(l3)"
   ]
  },
  {
   "cell_type": "code",
   "execution_count": 117,
   "id": "82103b39-7ec2-4916-99d5-14e4d26ddcc9",
   "metadata": {},
   "outputs": [
    {
     "name": "stdout",
     "output_type": "stream",
     "text": [
      "[1, 20, 3, 40, 5, 60, 7, 80]\n"
     ]
    }
   ],
   "source": [
    "#!! Assignment of slice with steps\n",
    "l4 = [1, 2, 3, 4, 5, 6, 7, 8]\n",
    "l4[1::2] = 20, 40, 60, 80\n",
    "print(l4)"
   ]
  },
  {
   "cell_type": "code",
   "execution_count": 118,
   "id": "5dbc4c95-959d-402f-93d3-e5af5e54459c",
   "metadata": {},
   "outputs": [
    {
     "ename": "ValueError",
     "evalue": "attempt to assign sequence of size 3 to extended slice of size 4",
     "output_type": "error",
     "traceback": [
      "\u001b[0;31m---------------------------------------------------------------------------\u001b[0m",
      "\u001b[0;31mValueError\u001b[0m                                Traceback (most recent call last)",
      "Cell \u001b[0;32mIn[118], line 3\u001b[0m\n\u001b[1;32m      1\u001b[0m \u001b[38;5;66;03m#!! The number of the elements in the slice should match, otherwise error\u001b[39;00m\n\u001b[1;32m      2\u001b[0m l5 \u001b[38;5;241m=\u001b[39m [\u001b[38;5;241m1\u001b[39m, \u001b[38;5;241m2\u001b[39m, \u001b[38;5;241m3\u001b[39m, \u001b[38;5;241m4\u001b[39m, \u001b[38;5;241m5\u001b[39m, \u001b[38;5;241m6\u001b[39m, \u001b[38;5;241m7\u001b[39m, \u001b[38;5;241m8\u001b[39m]\n\u001b[0;32m----> 3\u001b[0m \u001b[43ml5\u001b[49m\u001b[43m[\u001b[49m\u001b[38;5;241;43m1\u001b[39;49m\u001b[43m:\u001b[49m\u001b[43m:\u001b[49m\u001b[38;5;241;43m2\u001b[39;49m\u001b[43m]\u001b[49m \u001b[38;5;241m=\u001b[39m \u001b[38;5;241m20\u001b[39m, \u001b[38;5;241m40\u001b[39m, \u001b[38;5;241m60\u001b[39m\n",
      "\u001b[0;31mValueError\u001b[0m: attempt to assign sequence of size 3 to extended slice of size 4"
     ]
    }
   ],
   "source": [
    "#!! The number of the elements in the slice should match, otherwise error\n",
    "l5 = [1, 2, 3, 4, 5, 6, 7, 8]\n",
    "l5[1::2] = 20, 40, 60"
   ]
  },
  {
   "cell_type": "code",
   "execution_count": 120,
   "id": "f29c27d1-416c-472c-ab8b-f537304851a0",
   "metadata": {},
   "outputs": [
    {
     "name": "stdout",
     "output_type": "stream",
     "text": [
      "[8, 7]\n",
      "[1, 2, 3, 4, 5, 6, 'Last -1', 'Last']\n"
     ]
    }
   ],
   "source": [
    "# Assignment with negative slice order\n",
    "l6 = [1, 2, 3, 4, 5, 6, 7, 8]\n",
    "print(l6[:-3:-1])\n",
    "l6[:-3:-1] = ['Last', 'Last -1']\n",
    "# see that the order is reversed in the list\n",
    "print(l6)"
   ]
  },
  {
   "cell_type": "code",
   "execution_count": 121,
   "id": "56a765de-c2ae-44f2-af8d-6f6aa484686b",
   "metadata": {},
   "outputs": [
    {
     "name": "stdout",
     "output_type": "stream",
     "text": [
      "[1, 2, 3, 4, 5]\n"
     ]
    }
   ],
   "source": [
    "# Deletion of an element\n",
    "l7 = [1, 2, 2, 3, 4, 5]\n",
    "del l7[1]\n",
    "print(l7)"
   ]
  },
  {
   "cell_type": "code",
   "execution_count": 122,
   "id": "8fd6ef03-c5e0-4759-a092-698c5766ef0f",
   "metadata": {},
   "outputs": [
    {
     "name": "stdout",
     "output_type": "stream",
     "text": [
      "[2, 4, 6, 8]\n"
     ]
    }
   ],
   "source": [
    "# Deletion with a step\n",
    "l8 = [1, 2, 3, 4, 5, 6, 7, 8]\n",
    "del l8[::2]\n",
    "print(l8)\n"
   ]
  },
  {
   "cell_type": "code",
   "execution_count": 127,
   "id": "f8fd3c6c-e275-4773-89be-5b8ba148faab",
   "metadata": {},
   "outputs": [
    {
     "name": "stdout",
     "output_type": "stream",
     "text": [
      "[1, 2, 3, 4, 5]\n",
      "[1, 2, 3, 4, 5, [6, 7]]\n",
      "[1, 2, 3, 4, 5, [6, 7], (8, 9), 'python']\n"
     ]
    }
   ],
   "source": [
    "# Appending\n",
    "l9 = [1, 2, 3, 4]\n",
    "l9.append(5)\n",
    "print(l9)\n",
    "# append expects 1 argument and treats everythyng provided as one argument\n",
    "l9.append([6, 7])\n",
    "print(l9)\n",
    "l9.append((8, 9))\n",
    "l9.append('python')\n",
    "print(l9)"
   ]
  },
  {
   "cell_type": "code",
   "execution_count": 130,
   "id": "da316932-76db-4392-903b-cb7205469cf3",
   "metadata": {},
   "outputs": [
    {
     "name": "stdout",
     "output_type": "stream",
     "text": [
      "[1, 2, 3, 4, 5, 6, 7, 8]\n",
      "[1, 2, 3, 4, 5, 6, 7, 8, 'p', 'y', 't', 'h', 'o', 'n']\n"
     ]
    }
   ],
   "source": [
    "# Extending a list\n",
    "l10 = [1, 2, 3, 4]\n",
    "l10.extend([5, 6, 7, 8])\n",
    "print(l10)\n",
    "# the parameter of extend is treated as a sequence and the extend iterates over this sequence. So the string is treated as a sequence\n",
    "l10.extend('python')\n",
    "print(l10)"
   ]
  },
  {
   "cell_type": "code",
   "execution_count": 133,
   "id": "e488f022-b515-4ef0-b902-4605661d55ce",
   "metadata": {},
   "outputs": [
    {
     "name": "stdout",
     "output_type": "stream",
     "text": [
      "[1, 2, 'a', 3, 4, 5]\n",
      "['something', 1, 2, 'a', 3, 4, 5]\n"
     ]
    }
   ],
   "source": [
    "# Inserting - first argumet in the position and the second - a single element\n",
    "l11 = [1, 2, 3, 4, 5]\n",
    "l11.insert(2, 'a')\n",
    "print(l11)\n",
    "# the second parameter is treated as a single element, not a sequence\n",
    "l11.insert(0, 'something')\n",
    "print(l11)"
   ]
  },
  {
   "cell_type": "code",
   "execution_count": 137,
   "id": "f50118fc-a3ae-4da8-91d9-43372b2a9fb6",
   "metadata": {},
   "outputs": [
    {
     "name": "stdout",
     "output_type": "stream",
     "text": [
      "append:  0.001706441049464047\n",
      "insert:  0.9256898179883137\n"
     ]
    }
   ],
   "source": [
    "# Measuring insert vs append\n",
    "from timeit import timeit\n",
    "l12 = []\n",
    "print('append: ', timeit('l12.append(1)', globals=globals(), number = 100_000))\n",
    "l13 = []\n",
    "print('insert: ', timeit('l13.insert(0,1)', globals=globals(), number = 100_000))\n"
   ]
  },
  {
   "cell_type": "markdown",
   "id": "4cd960b4-39a5-4591-bc99-384c5ad34657",
   "metadata": {},
   "source": [
    "56. Copying Sequences - Coding"
   ]
  },
  {
   "cell_type": "code",
   "execution_count": 143,
   "id": "35c48a0c-5b11-4219-8bbd-96bfff7a4c0a",
   "metadata": {},
   "outputs": [
    {
     "name": "stdout",
     "output_type": "stream",
     "text": [
      "[1, 2, 3] False\n",
      "[1, 2, 3] [1, 2, 3, 4]\n"
     ]
    }
   ],
   "source": [
    "# Basics\n",
    "l01 = [1, 2, 3]\n",
    "\n",
    "#Shalow copy by Slicing\n",
    "l01_copy = l01[:]\n",
    "print(l01_copy, l01 is l01_copy)\n",
    "\n",
    "# If we change the copy, this will not affect l01\n",
    "l01_copy.append(4)\n",
    "print(l01, l01_copy)"
   ]
  },
  {
   "cell_type": "code",
   "execution_count": 145,
   "id": "04fb36c9-22e9-4d37-9099-4dcbcfefceb9",
   "metadata": {},
   "outputs": [
    {
     "name": "stdout",
     "output_type": "stream",
     "text": [
      "[1, 2, 3]\n",
      "[1, 2, 3] [1, 2, 3, 40]\n"
     ]
    }
   ],
   "source": [
    "# We can use copy method to make shalow copy\n",
    "l03 = l01.copy()\n",
    "print(l03)\n",
    "\n",
    "l03.append(40)\n",
    "print(l01, l03)"
   ]
  },
  {
   "cell_type": "code",
   "execution_count": 148,
   "id": "ee2318fa-abf9-47e5-a608-18f24539abc0",
   "metadata": {},
   "outputs": [
    {
     "name": "stdout",
     "output_type": "stream",
     "text": [
      "[[0, 1], [1, 0]] [[0, 1], [1, 0]]\n",
      "[[1, 1], [1, 0]] [[1, 1], [1, 0]]\n",
      "True\n"
     ]
    }
   ],
   "source": [
    "# Modifying a mutable element of a shalow copy will modify the element in the original because it is the same object\n",
    "l4 = [[0, 1], [1, 0]]\n",
    "l4_copy = l4.copy()\n",
    "print(l4, l4_copy)\n",
    "\n",
    "l4_copy[0][0] = 1\n",
    "print(l4, l4_copy)\n",
    "print(l4[0] is l4_copy[0])\n"
   ]
  },
  {
   "cell_type": "code",
   "execution_count": 151,
   "id": "5cad5ae7-fb0b-4273-a44d-ff9a286e74e2",
   "metadata": {},
   "outputs": [
    {
     "name": "stdout",
     "output_type": "stream",
     "text": [
      "False\n",
      "[[2, 0, 2], [0, 2]] [[2, 0], [0, 2]]\n"
     ]
    }
   ],
   "source": [
    "# Deep copy\n",
    "from copy import deepcopy\n",
    "l5 = [[2, 0], [0, 2]]\n",
    "l5_copy = deepcopy(l5)\n",
    "\n",
    "print(l5[0] is l5_copy[0])\n",
    "l5[0].append(2)\n",
    "print(l5, l5_copy)"
   ]
  },
  {
   "cell_type": "code",
   "execution_count": 155,
   "id": "76a4fc2d-60c8-4d74-8dbe-59a1a2bb1b20",
   "metadata": {},
   "outputs": [
    {
     "name": "stdout",
     "output_type": "stream",
     "text": [
      "True\n"
     ]
    }
   ],
   "source": [
    "# Shalow copy applies only if the elements are mutable. Otherwise Python does not clreates a copy object\n",
    "l6 = (1, 2, 3)\n",
    "l6_copy = l6[:]\n",
    "print(l6 is l6_copy)\n"
   ]
  },
  {
   "cell_type": "markdown",
   "id": "df3d97ae-c49b-49d2-ad80-508b928c3b22",
   "metadata": {},
   "source": [
    "58. Unpacking Sequences - Coding"
   ]
  },
  {
   "cell_type": "code",
   "execution_count": 158,
   "id": "a62d5ff0-8f5a-4acc-98fe-9a72c0fd1f6b",
   "metadata": {},
   "outputs": [
    {
     "name": "stdout",
     "output_type": "stream",
     "text": [
      "104\n",
      "68\n",
      "id:  1 price:  5.12 name:  abc\n"
     ]
    }
   ],
   "source": [
    "# Basica\n",
    "dim = 104, 68\n",
    "width, high = dim\n",
    "print(width)\n",
    "print(high)\n",
    "\n",
    "# The data types could be different\n",
    "t01 = 1, 5.12, 'abc'\n",
    "id, price, name = t01\n",
    "print('id: ', id, 'price: ', price, 'name: ', name)"
   ]
  }
 ],
 "metadata": {
  "kernelspec": {
   "display_name": "Python 3 (ipykernel)",
   "language": "python",
   "name": "python3"
  },
  "language_info": {
   "codemirror_mode": {
    "name": "ipython",
    "version": 3
   },
   "file_extension": ".py",
   "mimetype": "text/x-python",
   "name": "python",
   "nbconvert_exporter": "python",
   "pygments_lexer": "ipython3",
   "version": "3.12.3"
  }
 },
 "nbformat": 4,
 "nbformat_minor": 5
}
